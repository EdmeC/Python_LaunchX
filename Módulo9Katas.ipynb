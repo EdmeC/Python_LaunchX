{
  "cells": [
    {
      "cell_type": "markdown",
      "metadata": {},
      "source": [
        "# Ejercicio: Uso de funciones en Python"
      ]
    },
    {
      "cell_type": "markdown",
      "metadata": {},
      "source": [
        "### Ejercicio 1: Trabajar con argumentos en funciones\n",
        "\n",
        "Los argumentos requeridos en las funciones se utilizan cuando las funciones necesitan que esos argumentos funcionen correctamente. En este ejercicio, construirás un informe de combustible que requiere información de varias ubicaciones de combustible en todo el cohete.\n",
        "\n"
      ]
    },
    {
      "cell_type": "markdown",
      "metadata": {},
      "source": [
        "> **TIP**\n",
        "> Dedica unos minutos para tratar de encontrar una solución. Luego desplázate hacia abajo hasta la parte inferior para ver si has logrado compilar el programa de acuerdo con las especificaciones\n",
        "\n",
        "Comienza por crear una función que necesite tres lecturas de combustible y devuelva un informe:"
      ]
    },
    {
      "cell_type": "code",
      "execution_count": null,
      "metadata": {},
      "outputs": [],
      "source": [
        "def combustibleReporte (tanque1, tanque2, tanque3):\n",
        "    promedioCombustible = (tanque1 + tanque2 + tanque3)/3\n",
        "    return f'El combustible promedio en la nave es de: {promedioCombustible} litros'"
      ]
    },
    {
      "cell_type": "markdown",
      "metadata": {},
      "source": [
        "Ahora que hemos definido la función de informes, vamos a comprobarlo. Para esta misión, los tanques no están llenos:"
      ]
    },
    {
      "cell_type": "code",
      "execution_count": null,
      "metadata": {},
      "outputs": [],
      "source": [
        "\n",
        "print(combustibleReporte(0,0,0))"
      ]
    },
    {
      "cell_type": "markdown",
      "metadata": {},
      "source": [
        "En lugar de simplemente crear el informe, la función también está calculando el promedio. Mejora la legibilidad extrayendo el cálculo promedio de la función en una nueva función para que el promedio se pueda hacer de forma independiente:"
      ]
    },
    {
      "cell_type": "code",
      "execution_count": null,
      "metadata": {},
      "outputs": [],
      "source": [
        "def promedioCombustible (tanque1, tanque2,tanque3):\n",
        "    promedioCombustible = round((tanque1 + tanque2 + tanque3)/3)\n",
        "    return promedioCombustible"
      ]
    },
    {
      "cell_type": "markdown",
      "metadata": {},
      "source": [
        "Ahora actualiza la función de informes para llamando a la nueva función del promedio:\n"
      ]
    },
    {
      "cell_type": "code",
      "execution_count": null,
      "metadata": {},
      "outputs": [],
      "source": [
        "def combustibleReporte ():\n",
        "    promedio = promedioCombustible(15,45,100)\n",
        "    return f'El combustible promedio en la nave es de: {promedio} litros'\n",
        "print(combustibleReporte())"
      ]
    },
    {
      "cell_type": "markdown",
      "metadata": {},
      "source": [
        "> Recuerda: Lo importante es intentarlo, puedes auxiliarte de internet, libros, etc. El objetivo de una kata es la comprobación de la comprensión de la lección y su aplicación inmediata a la resolución de problemas. Go for it!"
      ]
    },
    {
      "cell_type": "markdown",
      "metadata": {},
      "source": [
        "## Ejercicio 2: Trabajo con argumentos de palabra clave"
      ]
    },
    {
      "cell_type": "markdown",
      "metadata": {},
      "source": [
        "### Ejercicio : Trabajar con argumentos de palabras clave en funciones\n",
        "En este ejercicio, construirás un informe de cohete que requiere varias piezas de información, como el tiempo hasta el destino, el combustible a la izquierda y el nombre del destino. Comienza por crear una función que creará un informe preciso de la misión:"
      ]
    },
    {
      "cell_type": "code",
      "execution_count": null,
      "metadata": {},
      "outputs": [],
      "source": [
        "def reporteMision (tiempoLaunch, tiempoVuelo, destino, tanqueExterno, tanqueInterno):\n",
        "    return f\"\"\"\n",
        "    Mision a: {destino}\n",
        "    Tiempo de vuelo: {tiempoVuelo + tiempoLaunch} horas\n",
        "    Combustible en la nave: {tanqueExterno + tanqueInterno} litros \n",
        "    \"\"\"\n",
        "\n",
        "print(reporteMision(3, 50, \"Gaminides\", 50, 180))"
      ]
    },
    {
      "cell_type": "markdown",
      "metadata": {},
      "source": [
        "La función es problemática porque no se puede adaptar para minutos adicionales o tanques adicionales de combustible. Hazlo más flexible permitiendo cualquier número de pasos basados en el tiempo y cualquier número de tanques. En lugar de usar `*args` y `**kwargs`, aprovecha el hecho de que puedes usar cualquier nombre que desees. Asegurate que la función sea más legible mediante el uso de nombres de variables que están asociados con las entradas, como `*minutes` y `**fuel_reservoirs`:"
      ]
    },
    {
      "cell_type": "code",
      "execution_count": null,
      "metadata": {},
      "outputs": [],
      "source": [
        "def reporteMision(mision, *tiempoViaje, **tanquesCohete):\n",
        "    return f\"\"\"\n",
        "    Mision con destino a: {mision}\n",
        "    Tiempo de viaje total: {sum(tiempoViaje)} horas para llegar a {mision}\n",
        "    Combustible disponible {sum(tanquesCohete.values())} litros\n",
        "    \"\"\"\n",
        "\n",
        "print(reporteMision(\"Saturno\", 200, 12, tanque1=2000, tanque2=500))"
      ]
    },
    {
      "cell_type": "markdown",
      "metadata": {},
      "source": [
        "Debido a que el combustible que queda en los tanques es específico de cada tanque, actualiza la función para usar el nombre de cada tanque en el informe:"
      ]
    },
    {
      "cell_type": "code",
      "execution_count": null,
      "metadata": {},
      "outputs": [],
      "source": [
        "def reporteMision(mision, *tiempoViaje, **tanquesCohete):\n",
        "    reportePrincipal = f\"\"\"\n",
        "    Mision con destino a: {mision}\n",
        "    Tiempo de viaje total: {sum(tiempoViaje)} horas para llegar a {mision}\n",
        "    Combustible disponible {sum(tanquesCohete.values())} litros\n",
        "    \"\"\"\n",
        "    for num_tanque, litros in tanquesCohete.items():\n",
        "        reportePrincipal += f\"El tanque: {num_tanque} tiene disponible {litros} \"\n",
        "        return reportePrincipal\n",
        "\n",
        "print(reporteMision(\"Saturno\", 200, 12, interno=2000, externo=500))"
      ]
    }
  ],
  "metadata": {
    "interpreter": {
      "hash": "205095b8b86ea82a021a8fc2ffba2b3bc9f8d0be25999901963b225939f75778"
    },
    "kernelspec": {
      "display_name": "Python 3.8.10 64-bit ('tmp': conda)",
      "name": "python3"
    },
    "language_info": {
      "codemirror_mode": {
        "name": "ipython",
        "version": 3
      },
      "file_extension": ".py",
      "mimetype": "text/x-python",
      "name": "python",
      "nbconvert_exporter": "python",
      "pygments_lexer": "ipython3",
      "version": "3.8.10"
    },
    "nteract": {
      "version": "nteract-front-end@1.0.0"
    },
    "orig_nbformat": 4
  },
  "nbformat": 4,
  "nbformat_minor": 2
}
